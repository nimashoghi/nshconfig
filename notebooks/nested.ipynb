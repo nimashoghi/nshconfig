{
 "cells": [
  {
   "cell_type": "code",
   "execution_count": 1,
   "id": "7855e024",
   "metadata": {},
   "outputs": [],
   "source": [
    "from __future__ import annotations\n",
    "\n",
    "from abc import ABC\n",
    "from collections.abc import Sequence\n",
    "from typing import Annotated, Any, Literal\n",
    "\n",
    "from typing_extensions import TypeAliasType\n",
    "\n",
    "import nshconfig as C\n",
    "\n",
    "\n",
    "# This test is a simplified version of the one in nshtrainer,\n",
    "# which currently fails with pydantic>=2.11, but works with pydantic<2.11.\n",
    "# Track the following issue: https://github.com/pydantic/pydantic/issues/11682\n",
    "class PluginBaseConfig(C.Config, ABC):\n",
    "    pass\n",
    "\n",
    "\n",
    "plugin_registry = C.Registry(PluginBaseConfig, discriminator=\"name\")\n",
    "PluginConfig = TypeAliasType(  # type: ignore\n",
    "    \"PluginConfig\", Annotated[Any, plugin_registry.DynamicResolution()]\n",
    ")\n",
    "\n",
    "\n",
    "@plugin_registry.register\n",
    "class Plugin1(PluginBaseConfig):\n",
    "    name: Literal[\"plugin1\"] = \"plugin1\"\n",
    "    value: int = 42\n",
    "\n",
    "\n",
    "@plugin_registry.register\n",
    "class Plugin2(PluginBaseConfig):\n",
    "    name: Literal[\"plugin2\"] = \"plugin2\"\n",
    "\n",
    "    nested_plugins: Sequence[PluginBaseConfig] | None = None\n",
    "    nested_plugins2: Sequence[PluginConfig] | None = None\n",
    "\n",
    "\n",
    "class RootConfig(C.Config):\n",
    "    plugins: Sequence[PluginConfig] | None = None\n"
   ]
  }
 ],
 "metadata": {
  "kernelspec": {
   "display_name": "nshconfig-m8xG2OhM-py3.12",
   "language": "python",
   "name": "python3"
  },
  "language_info": {
   "codemirror_mode": {
    "name": "ipython",
    "version": 3
   },
   "file_extension": ".py",
   "mimetype": "text/x-python",
   "name": "python",
   "nbconvert_exporter": "python",
   "pygments_lexer": "ipython3",
   "version": "3.12.3"
  }
 },
 "nbformat": 4,
 "nbformat_minor": 5
}
