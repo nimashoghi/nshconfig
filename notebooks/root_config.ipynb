{
 "cells": [
  {
   "cell_type": "code",
   "execution_count": 1,
   "id": "84e001ff",
   "metadata": {},
   "outputs": [],
   "source": [
    "from __future__ import annotations\n",
    "\n",
    "import logging\n",
    "\n",
    "logging.basicConfig(level=logging.INFO)"
   ]
  },
  {
   "cell_type": "code",
   "execution_count": 2,
   "id": "44adf3f9",
   "metadata": {},
   "outputs": [
    {
     "name": "stderr",
     "output_type": "stream",
     "text": [
      "INFO:nshconfig._src.config:Default hash function set for class: Invalid\n",
      "INFO:nshconfig._src.config:Default hash function set for class: RootConfig\n"
     ]
    },
    {
     "name": "stdout",
     "output_type": "stream",
     "text": [
      "(<class 'nshconfig._src.root.RootConfig'>, <class 'pydantic_settings.main.BaseSettings'>, <class 'nshconfig._src.config.Config'>, <class 'pydantic.main.BaseModel'>, <class 'collections.abc.MutableMapping'>, <class 'collections.abc.Mapping'>, <class 'collections.abc.Collection'>, <class 'collections.abc.Sized'>, <class 'collections.abc.Iterable'>, <class 'collections.abc.Container'>, <class 'object'>)\n",
      "__init__ method for RootConfig is defined in: RootConfig\n",
      "\n",
      "Method signature:\n",
      "<code object __init__ at 0x2ba93f40, file \"/home/nimashoghi/repositories/nshconfig/src/nshconfig/_src/root.py\", line 123>\n"
     ]
    }
   ],
   "source": [
    "from nshconfig._src.root import RootConfig\n",
    "\n",
    "print(RootConfig.__mro__)\n",
    "# Find which class in the MRO is responsible for the __init__ method\n",
    "init_owner = next(\n",
    "    (cls for cls in RootConfig.__mro__ if \"__init__\" in cls.__dict__), None\n",
    ")\n",
    "\n",
    "print(\n",
    "    f\"__init__ method for RootConfig is defined in: {init_owner.__name__ if init_owner else 'Not found'}\"\n",
    ")\n",
    "\n",
    "# Optionally, look at the actual method\n",
    "if init_owner:\n",
    "    print(f\"\\nMethod signature:\")\n",
    "    print(init_owner.__init__.__code__)\n"
   ]
  },
  {
   "cell_type": "code",
   "execution_count": 3,
   "id": "21feb01a",
   "metadata": {},
   "outputs": [
    {
     "name": "stderr",
     "output_type": "stream",
     "text": [
      "INFO:nshconfig._src.config:Default hash function set for class: Init\n",
      "INFO:nshconfig._src.config:Default hash function set for class: Clone\n",
      "INFO:nshconfig._src.config:Default hash function set for class: Git\n",
      "INFO:nshconfig._src.config:Default hash function set for class: CliAppBaseSettings\n"
     ]
    },
    {
     "name": "stdout",
     "output_type": "stream",
     "text": [
      "git init \"dir\"\n",
      "ret=Init(directory='ran the git init cli cmd')\n"
     ]
    },
    {
     "data": {
      "text/plain": [
       "Git(clone=None, init=Init(directory='ran the git init cli cmd'))"
      ]
     },
     "execution_count": 3,
     "metadata": {},
     "output_type": "execute_result"
    }
   ],
   "source": [
    "from typing_extensions import override\n",
    "\n",
    "import nshconfig as C\n",
    "\n",
    "\n",
    "class Init(C.Config):\n",
    "    directory: C.CliPositionalArg[str]\n",
    "\n",
    "    @override\n",
    "    def cli_cmd(self) -> None:\n",
    "        print(f'git init \"{self.directory}\"')\n",
    "        # > git init \"dir\"\n",
    "        self.directory = \"ran the git init cli cmd\"\n",
    "\n",
    "\n",
    "class Clone(C.Config):\n",
    "    repository: C.CliPositionalArg[str]\n",
    "    directory: C.CliPositionalArg[str]\n",
    "\n",
    "    @override\n",
    "    def cli_cmd(self) -> None:\n",
    "        print(f'git clone from \"{self.repository}\" into \"{self.directory}\"')\n",
    "        self.directory = \"ran the clone cli cmd\"\n",
    "\n",
    "\n",
    "class Git(C.Config):\n",
    "    clone: C.CliSubCommand[Clone]\n",
    "    init: C.CliSubCommand[Init]\n",
    "\n",
    "    @override\n",
    "    def cli_cmd(self) -> None:\n",
    "        ret = self.cli_run_subcommand()\n",
    "        print(f\"{ret=}\")\n",
    "\n",
    "\n",
    "cmd = C.CliApp.run(Git, cli_args=[\"init\", \"dir\"])\n",
    "cmd"
   ]
  },
  {
   "cell_type": "code",
   "execution_count": 6,
   "id": "bfdb9acb",
   "metadata": {},
   "outputs": [
    {
     "name": "stderr",
     "output_type": "stream",
     "text": [
      "INFO:nshconfig._src.config:Default hash function set for class: Git\n",
      "INFO:nshconfig._src.root:BaseSettings.__init__ called from outside pydantic_settings, skipping BaseSettings magic initialization\n"
     ]
    },
    {
     "name": "stdout",
     "output_type": "stream",
     "text": [
      "git init \"dir\"\n",
      "ret=Init(directory='ran the git init cli cmd')\n",
      "clone=None init=Init(directory='ran the git init cli cmd')\n"
     ]
    },
    {
     "ename": "ValidationError",
     "evalue": "2 validation errors for Git\nclone\n  Field required [type=missing, input_value={}, input_type=dict]\n    For further information visit https://errors.pydantic.dev/2.11/v/missing\ninit\n  Field required [type=missing, input_value={}, input_type=dict]\n    For further information visit https://errors.pydantic.dev/2.11/v/missing",
     "output_type": "error",
     "traceback": [
      "\u001b[0;31m---------------------------------------------------------------------------\u001b[0m",
      "\u001b[0;31mValidationError\u001b[0m                           Traceback (most recent call last)",
      "Cell \u001b[0;32mIn[6], line 20\u001b[0m\n\u001b[1;32m     18\u001b[0m instance \u001b[38;5;241m=\u001b[39m C\u001b[38;5;241m.\u001b[39mCliApp\u001b[38;5;241m.\u001b[39mrun(Git, cli_args\u001b[38;5;241m=\u001b[39m[\u001b[38;5;124m\"\u001b[39m\u001b[38;5;124minit\u001b[39m\u001b[38;5;124m\"\u001b[39m, \u001b[38;5;124m\"\u001b[39m\u001b[38;5;124mdir\u001b[39m\u001b[38;5;124m\"\u001b[39m])\n\u001b[1;32m     19\u001b[0m \u001b[38;5;28mprint\u001b[39m(instance)\n\u001b[0;32m---> 20\u001b[0m \u001b[43mGit\u001b[49m\u001b[43m(\u001b[49m\u001b[43m)\u001b[49m\n",
      "    \u001b[0;31m[... skipping hidden 1 frame]\u001b[0m\n",
      "File \u001b[0;32m/mnt/shared/poetry-virtualenvs/nshconfig-m8xG2OhM-py3.12/lib/python3.12/site-packages/pydantic/main.py:253\u001b[0m, in \u001b[0;36mBaseModel.__init__\u001b[0;34m(self, **data)\u001b[0m\n\u001b[1;32m    251\u001b[0m \u001b[38;5;66;03m# `__tracebackhide__` tells pytest and some other tools to omit this function from tracebacks\u001b[39;00m\n\u001b[1;32m    252\u001b[0m __tracebackhide__ \u001b[38;5;241m=\u001b[39m \u001b[38;5;28;01mTrue\u001b[39;00m\n\u001b[0;32m--> 253\u001b[0m validated_self \u001b[38;5;241m=\u001b[39m \u001b[38;5;28;43mself\u001b[39;49m\u001b[38;5;241;43m.\u001b[39;49m\u001b[43m__pydantic_validator__\u001b[49m\u001b[38;5;241;43m.\u001b[39;49m\u001b[43mvalidate_python\u001b[49m\u001b[43m(\u001b[49m\u001b[43mdata\u001b[49m\u001b[43m,\u001b[49m\u001b[43m \u001b[49m\u001b[43mself_instance\u001b[49m\u001b[38;5;241;43m=\u001b[39;49m\u001b[38;5;28;43mself\u001b[39;49m\u001b[43m)\u001b[49m\n\u001b[1;32m    254\u001b[0m \u001b[38;5;28;01mif\u001b[39;00m \u001b[38;5;28mself\u001b[39m \u001b[38;5;129;01mis\u001b[39;00m \u001b[38;5;129;01mnot\u001b[39;00m validated_self:\n\u001b[1;32m    255\u001b[0m     warnings\u001b[38;5;241m.\u001b[39mwarn(\n\u001b[1;32m    256\u001b[0m         \u001b[38;5;124m'\u001b[39m\u001b[38;5;124mA custom validator is returning a value other than `self`.\u001b[39m\u001b[38;5;130;01m\\n\u001b[39;00m\u001b[38;5;124m'\u001b[39m\n\u001b[1;32m    257\u001b[0m         \u001b[38;5;124m\"\u001b[39m\u001b[38;5;124mReturning anything other than `self` from a top level model validator isn\u001b[39m\u001b[38;5;124m'\u001b[39m\u001b[38;5;124mt supported when validating via `__init__`.\u001b[39m\u001b[38;5;130;01m\\n\u001b[39;00m\u001b[38;5;124m\"\u001b[39m\n\u001b[1;32m    258\u001b[0m         \u001b[38;5;124m'\u001b[39m\u001b[38;5;124mSee the `model_validator` docs (https://docs.pydantic.dev/latest/concepts/validators/#model-validators) for more details.\u001b[39m\u001b[38;5;124m'\u001b[39m,\n\u001b[1;32m    259\u001b[0m         stacklevel\u001b[38;5;241m=\u001b[39m\u001b[38;5;241m2\u001b[39m,\n\u001b[1;32m    260\u001b[0m     )\n",
      "\u001b[0;31mValidationError\u001b[0m: 2 validation errors for Git\nclone\n  Field required [type=missing, input_value={}, input_type=dict]\n    For further information visit https://errors.pydantic.dev/2.11/v/missing\ninit\n  Field required [type=missing, input_value={}, input_type=dict]\n    For further information visit https://errors.pydantic.dev/2.11/v/missing"
     ]
    }
   ],
   "source": [
    "import sys\n",
    "\n",
    "\n",
    "class Git(C.RootConfig):\n",
    "    model_config = {\"cli_parse_args\": True}\n",
    "\n",
    "    clone: C.CliSubCommand[Clone]\n",
    "    init: C.CliSubCommand[Init]\n",
    "\n",
    "    @override\n",
    "    def cli_cmd(self) -> None:\n",
    "        ret = self.cli_run_subcommand()\n",
    "        print(f\"{ret=}\")\n",
    "\n",
    "\n",
    "sys.argv = [\"example.py\", \"init\", \"dir\"]\n",
    "\n",
    "instance = C.CliApp.run(Git, cli_args=[\"init\", \"dir\"])\n",
    "print(instance)\n",
    "Git()"
   ]
  },
  {
   "cell_type": "code",
   "execution_count": 12,
   "id": "d4f73c2e",
   "metadata": {},
   "outputs": [
    {
     "name": "stderr",
     "output_type": "stream",
     "text": [
      "INFO:nshconfig._src.root:BaseSettings.__init__ called from outside pydantic_settings, skipping BaseSettings magic initialization\n"
     ]
    },
    {
     "data": {
      "text/plain": [
       "True"
      ]
     },
     "execution_count": 12,
     "metadata": {},
     "output_type": "execute_result"
    }
   ],
   "source": [
    "Git(clone=None, init=None).cli_active_subcommand() is None"
   ]
  }
 ],
 "metadata": {
  "kernelspec": {
   "display_name": "nshconfig-m8xG2OhM-py3.12",
   "language": "python",
   "name": "python3"
  },
  "language_info": {
   "codemirror_mode": {
    "name": "ipython",
    "version": 3
   },
   "file_extension": ".py",
   "mimetype": "text/x-python",
   "name": "python",
   "nbconvert_exporter": "python",
   "pygments_lexer": "ipython3",
   "version": "3.12.3"
  }
 },
 "nbformat": 4,
 "nbformat_minor": 5
}
