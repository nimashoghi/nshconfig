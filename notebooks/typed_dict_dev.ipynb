{
 "cells": [
  {
   "cell_type": "code",
   "execution_count": null,
   "metadata": {},
   "outputs": [
    {
     "name": "stdout",
     "output_type": "stream",
     "text": [
      "{'$defs': {'Inner': {'properties': {'inner': {'$ref': '#/$defs/Inner2'}, 'b': {'title': 'B', 'type': 'number'}, 'd': {'const': 1, 'enum': [1], 'title': 'D', 'type': 'integer'}, 'd2': {'items': {'const': 1, 'enum': [1], 'type': 'integer'}, 'title': 'D2', 'type': 'array'}, 'd3': {'items': {'const': 1, 'enum': [1], 'type': 'integer'}, 'title': 'D3', 'type': 'array'}, 'g': {'$ref': '#/$defs/MyGenericConfig_int_'}, 'l': {'$ref': '#/$defs/MyGenericConfig_Inner3_'}}, 'required': ['inner', 'b', 'd', 'd2', 'd3', 'g', 'l'], 'title': 'Inner', 'type': 'object'}, 'Inner2': {'properties': {'inner3': {'$ref': '#/$defs/Inner3'}, 'hello': {'anyOf': [{'type': 'string'}, {'type': 'number'}], 'title': 'Hello'}}, 'required': ['inner3', 'hello'], 'title': 'Inner2', 'type': 'object'}, 'Inner3': {'properties': {}, 'title': 'Inner3', 'type': 'object'}, 'MyGenericConfig_Inner3_': {'properties': {'a': {'title': 'A', 'type': 'integer'}, 'b': {'title': 'B', 'type': 'number'}, 't': {'$ref': '#/$defs/Inner3'}}, 'required': ['a', 'b', 't'], 'title': 'MyGenericConfig[Inner3]', 'type': 'object'}, 'MyGenericConfig_int_': {'properties': {'a': {'title': 'A', 'type': 'integer'}, 'b': {'title': 'B', 'type': 'number'}, 't': {'title': 'T', 'type': 'integer'}}, 'required': ['a', 'b', 't'], 'title': 'MyGenericConfig[int]', 'type': 'object'}}, 'properties': {'l': {'default': 1, 'title': 'L', 'type': 'integer'}, 'b': {'anyOf': [{'type': 'integer'}, {'type': 'null'}], 'default': None, 'title': 'B'}, 'c': {'anyOf': [{'type': 'integer'}, {'type': 'null'}], 'default': None, 'title': 'C'}, 'inner': {'anyOf': [{'$ref': '#/$defs/Inner'}, {'$ref': '#/$defs/Inner2'}, {}], 'title': 'Inner'}, 'a': {'title': 'A', 'type': 'integer'}}, 'required': ['inner', 'a'], 'title': 'Root', 'type': 'object'}\n"
     ]
    },
    {
     "ename": "IndexError",
     "evalue": "string index out of range",
     "output_type": "error",
     "traceback": [
      "\u001b[0;31m---------------------------------------------------------------------------\u001b[0m",
      "\u001b[0;31mIndexError\u001b[0m                                Traceback (most recent call last)",
      "Cell \u001b[0;32mIn[20], line 48\u001b[0m\n\u001b[1;32m     44\u001b[0m     a: \u001b[38;5;124m\"\u001b[39m\u001b[38;5;124mint\u001b[39m\u001b[38;5;124m\"\u001b[39m\n\u001b[1;32m     47\u001b[0m \u001b[38;5;28mprint\u001b[39m(Root\u001b[38;5;241m.\u001b[39mmodel_json_schema())\n\u001b[0;32m---> 48\u001b[0m \u001b[38;5;28mprint\u001b[39m(\u001b[43mconvert_schema\u001b[49m\u001b[43m(\u001b[49m\u001b[43mRoot\u001b[49m\u001b[38;5;241;43m.\u001b[39;49m\u001b[43mmodel_json_schema\u001b[49m\u001b[43m(\u001b[49m\u001b[43m)\u001b[49m\u001b[43m,\u001b[49m\u001b[43m \u001b[49m\u001b[38;5;124;43m\"\u001b[39;49m\u001b[38;5;124;43mRoot\u001b[39;49m\u001b[38;5;124;43m\"\u001b[39;49m\u001b[43m)\u001b[49m)\n\u001b[1;32m     49\u001b[0m \u001b[38;5;28mprint\u001b[39m(\u001b[38;5;124m'\u001b[39m\u001b[38;5;124mhelloWorld\u001b[39m\u001b[38;5;124m'\u001b[39m\u001b[38;5;241m.\u001b[39mcapitalize())\n",
      "File \u001b[0;32m/workspaces/nshconfig/src/nshconfig/_src/json_schema.py:254\u001b[0m, in \u001b[0;36mconvert_schema\u001b[0;34m(schema, root_name, header)\u001b[0m\n\u001b[1;32m    251\u001b[0m     result \u001b[38;5;241m+\u001b[39m\u001b[38;5;241m=\u001b[39m \u001b[38;5;124m\"\u001b[39m\u001b[38;5;124m# Definitions\u001b[39m\u001b[38;5;130;01m\\n\u001b[39;00m\u001b[38;5;124m\"\u001b[39m\n\u001b[1;32m    253\u001b[0m \u001b[38;5;28;01mfor\u001b[39;00m def_name, def_value \u001b[38;5;129;01min\u001b[39;00m defs\u001b[38;5;241m.\u001b[39mitems():\n\u001b[0;32m--> 254\u001b[0m     inner \u001b[38;5;241m=\u001b[39m \u001b[43m_convert_schema_entry\u001b[49m\u001b[43m(\u001b[49m\u001b[43mdef_name\u001b[49m\u001b[43m,\u001b[49m\u001b[43m \u001b[49m\u001b[43mdef_value\u001b[49m\u001b[43m)\u001b[49m\n\u001b[1;32m    256\u001b[0m     \u001b[38;5;28;01mif\u001b[39;00m inner\u001b[38;5;241m.\u001b[39mblock:\n\u001b[1;32m    257\u001b[0m         result \u001b[38;5;241m+\u001b[39m\u001b[38;5;241m=\u001b[39m \u001b[38;5;124mf\u001b[39m\u001b[38;5;124m\"\u001b[39m\u001b[38;5;130;01m\\n\u001b[39;00m\u001b[38;5;132;01m{\u001b[39;00minner\u001b[38;5;241m.\u001b[39mblock\u001b[38;5;132;01m}\u001b[39;00m\u001b[38;5;130;01m\\n\u001b[39;00m\u001b[38;5;130;01m\\n\u001b[39;00m\u001b[38;5;124m\"\u001b[39m\n",
      "File \u001b[0;32m/workspaces/nshconfig/src/nshconfig/_src/json_schema.py:222\u001b[0m, in \u001b[0;36m_convert_schema_entry\u001b[0;34m(entry_name, entry_value)\u001b[0m\n\u001b[1;32m    219\u001b[0m     \u001b[38;5;28;01mreturn\u001b[39;00m _convert_array_entry(entry_name, entry_value)\n\u001b[1;32m    221\u001b[0m \u001b[38;5;28;01mcase\u001b[39;00m \u001b[38;5;124m\"\u001b[39m\u001b[38;5;124mobject\u001b[39m\u001b[38;5;124m\"\u001b[39m:\n\u001b[0;32m--> 222\u001b[0m     \u001b[38;5;28;01mreturn\u001b[39;00m \u001b[43m_convert_object_entry\u001b[49m\u001b[43m(\u001b[49m\u001b[43mentry_name\u001b[49m\u001b[43m,\u001b[49m\u001b[43m \u001b[49m\u001b[43mentry_value\u001b[49m\u001b[43m)\u001b[49m\n\u001b[1;32m    224\u001b[0m \u001b[38;5;28;01mcase\u001b[39;00m\u001b[38;5;250m \u001b[39m\u001b[38;5;28;01m_\u001b[39;00m:\n\u001b[1;32m    225\u001b[0m     msg \u001b[38;5;241m=\u001b[39m \u001b[38;5;124mf\u001b[39m\u001b[38;5;124m\"\u001b[39m\u001b[38;5;124mInvalid entry at \u001b[39m\u001b[38;5;132;01m{\u001b[39;00mentry_name\u001b[38;5;132;01m}\u001b[39;00m\u001b[38;5;124m: unknown type \u001b[39m\u001b[38;5;132;01m{\u001b[39;00mentry_type\u001b[38;5;132;01m}\u001b[39;00m\u001b[38;5;124m\"\u001b[39m\n",
      "File \u001b[0;32m/workspaces/nshconfig/src/nshconfig/_src/json_schema.py:118\u001b[0m, in \u001b[0;36m_convert_object_entry\u001b[0;34m(entry_name, entry_value)\u001b[0m\n\u001b[1;32m    115\u001b[0m     typed_dict\u001b[38;5;241m.\u001b[39mappend(\u001b[38;5;124mf\u001b[39m\u001b[38;5;124m\"\u001b[39m\u001b[38;5;124mclass \u001b[39m\u001b[38;5;132;01m{\u001b[39;00mtype_name\u001b[38;5;132;01m}\u001b[39;00m\u001b[38;5;124m(typ.TypedDict, total=False):\u001b[39m\u001b[38;5;124m\"\u001b[39m)\n\u001b[1;32m    117\u001b[0m \u001b[38;5;28;01mfor\u001b[39;00m prop_name, prop_value \u001b[38;5;129;01min\u001b[39;00m properties\u001b[38;5;241m.\u001b[39mitems():\n\u001b[0;32m--> 118\u001b[0m     inner \u001b[38;5;241m=\u001b[39m \u001b[43m_convert_schema_entry\u001b[49m\u001b[43m(\u001b[49m\u001b[38;5;124;43mf\u001b[39;49m\u001b[38;5;124;43m\"\u001b[39;49m\u001b[38;5;132;43;01m{\u001b[39;49;00m\u001b[43mentry_name\u001b[49m\u001b[38;5;132;43;01m}\u001b[39;49;00m\u001b[38;5;124;43m__\u001b[39;49m\u001b[38;5;132;43;01m{\u001b[39;49;00m\u001b[43mprop_name\u001b[49m\u001b[38;5;132;43;01m}\u001b[39;49;00m\u001b[38;5;124;43m\"\u001b[39;49m\u001b[43m,\u001b[49m\u001b[43m \u001b[49m\u001b[43mprop_value\u001b[49m\u001b[43m)\u001b[49m\n\u001b[1;32m    119\u001b[0m     \u001b[38;5;28;01mif\u001b[39;00m inner\u001b[38;5;241m.\u001b[39mblock:\n\u001b[1;32m    120\u001b[0m         block_result \u001b[38;5;241m+\u001b[39m\u001b[38;5;241m=\u001b[39m \u001b[38;5;124mf\u001b[39m\u001b[38;5;124m\"\u001b[39m\u001b[38;5;132;01m{\u001b[39;00minner\u001b[38;5;241m.\u001b[39mblock\u001b[38;5;132;01m}\u001b[39;00m\u001b[38;5;130;01m\\n\u001b[39;00m\u001b[38;5;124m\"\u001b[39m\n",
      "File \u001b[0;32m/workspaces/nshconfig/src/nshconfig/_src/json_schema.py:187\u001b[0m, in \u001b[0;36m_convert_schema_entry\u001b[0;34m(entry_name, entry_value)\u001b[0m\n\u001b[1;32m    185\u001b[0m         msg \u001b[38;5;241m=\u001b[39m \u001b[38;5;124mf\u001b[39m\u001b[38;5;124m\"\u001b[39m\u001b[38;5;124mInvalid entry at \u001b[39m\u001b[38;5;132;01m{\u001b[39;00mentry_name\u001b[38;5;132;01m}\u001b[39;00m\u001b[38;5;124m: only $defs are supported in $ref (\u001b[39m\u001b[38;5;132;01m{\u001b[39;00mentry_value\u001b[38;5;132;01m}\u001b[39;00m\u001b[38;5;124m)\u001b[39m\u001b[38;5;124m\"\u001b[39m\n\u001b[1;32m    186\u001b[0m         \u001b[38;5;28;01mraise\u001b[39;00m \u001b[38;5;167;01mValueError\u001b[39;00m(msg)\n\u001b[0;32m--> 187\u001b[0m     \u001b[38;5;28;01mreturn\u001b[39;00m CodeResult(\u001b[38;5;124m\"\u001b[39m\u001b[38;5;124m\"\u001b[39m, \u001b[43m_snake_case_to_pascal_case\u001b[49m\u001b[43m(\u001b[49m\u001b[43mentry_value\u001b[49m\u001b[43m[\u001b[49m\u001b[38;5;124;43m\"\u001b[39;49m\u001b[38;5;124;43m$ref\u001b[39;49m\u001b[38;5;124;43m\"\u001b[39;49m\u001b[43m]\u001b[49m\u001b[43m[\u001b[49m\u001b[38;5;241;43m8\u001b[39;49m\u001b[43m:\u001b[49m\u001b[43m]\u001b[49m\u001b[43m)\u001b[49m)\n\u001b[1;32m    189\u001b[0m \u001b[38;5;28;01mif\u001b[39;00m \u001b[38;5;124m\"\u001b[39m\u001b[38;5;124manyOf\u001b[39m\u001b[38;5;124m\"\u001b[39m \u001b[38;5;129;01min\u001b[39;00m entry_value:\n\u001b[1;32m    190\u001b[0m     \u001b[38;5;28;01mreturn\u001b[39;00m _convert_any_of(entry_name, entry_value)\n",
      "File \u001b[0;32m/workspaces/nshconfig/src/nshconfig/_src/json_schema.py:18\u001b[0m, in \u001b[0;36m_snake_case_to_pascal_case\u001b[0;34m(snake)\u001b[0m\n\u001b[1;32m     17\u001b[0m \u001b[38;5;28;01mdef\u001b[39;00m \u001b[38;5;21m_snake_case_to_pascal_case\u001b[39m(snake: \u001b[38;5;28mstr\u001b[39m) \u001b[38;5;241m-\u001b[39m\u001b[38;5;241m>\u001b[39m \u001b[38;5;28mstr\u001b[39m:\n\u001b[0;32m---> 18\u001b[0m     \u001b[38;5;28;01mreturn\u001b[39;00m \u001b[38;5;124;43m\"\u001b[39;49m\u001b[38;5;124;43m\"\u001b[39;49m\u001b[38;5;241;43m.\u001b[39;49m\u001b[43mjoin\u001b[49m\u001b[43m(\u001b[49m\u001b[43m_cap\u001b[49m\u001b[43m(\u001b[49m\u001b[43mword\u001b[49m\u001b[43m)\u001b[49m\u001b[43m \u001b[49m\u001b[38;5;28;43;01mfor\u001b[39;49;00m\u001b[43m \u001b[49m\u001b[43mword\u001b[49m\u001b[43m \u001b[49m\u001b[38;5;129;43;01min\u001b[39;49;00m\u001b[43m \u001b[49m\u001b[43msnake\u001b[49m\u001b[38;5;241;43m.\u001b[39;49m\u001b[43msplit\u001b[49m\u001b[43m(\u001b[49m\u001b[38;5;124;43m\"\u001b[39;49m\u001b[38;5;124;43m_\u001b[39;49m\u001b[38;5;124;43m\"\u001b[39;49m\u001b[43m)\u001b[49m\u001b[43m)\u001b[49m\n",
      "File \u001b[0;32m/workspaces/nshconfig/src/nshconfig/_src/json_schema.py:18\u001b[0m, in \u001b[0;36m<genexpr>\u001b[0;34m(.0)\u001b[0m\n\u001b[1;32m     17\u001b[0m \u001b[38;5;28;01mdef\u001b[39;00m \u001b[38;5;21m_snake_case_to_pascal_case\u001b[39m(snake: \u001b[38;5;28mstr\u001b[39m) \u001b[38;5;241m-\u001b[39m\u001b[38;5;241m>\u001b[39m \u001b[38;5;28mstr\u001b[39m:\n\u001b[0;32m---> 18\u001b[0m     \u001b[38;5;28;01mreturn\u001b[39;00m \u001b[38;5;124m\"\u001b[39m\u001b[38;5;124m\"\u001b[39m\u001b[38;5;241m.\u001b[39mjoin(\u001b[43m_cap\u001b[49m\u001b[43m(\u001b[49m\u001b[43mword\u001b[49m\u001b[43m)\u001b[49m \u001b[38;5;28;01mfor\u001b[39;00m word \u001b[38;5;129;01min\u001b[39;00m snake\u001b[38;5;241m.\u001b[39msplit(\u001b[38;5;124m\"\u001b[39m\u001b[38;5;124m_\u001b[39m\u001b[38;5;124m\"\u001b[39m))\n",
      "File \u001b[0;32m/workspaces/nshconfig/src/nshconfig/_src/json_schema.py:14\u001b[0m, in \u001b[0;36m_cap\u001b[0;34m(word)\u001b[0m\n\u001b[1;32m     13\u001b[0m \u001b[38;5;28;01mdef\u001b[39;00m \u001b[38;5;21m_cap\u001b[39m(word: \u001b[38;5;28mstr\u001b[39m) \u001b[38;5;241m-\u001b[39m\u001b[38;5;241m>\u001b[39m \u001b[38;5;28mstr\u001b[39m:\n\u001b[0;32m---> 14\u001b[0m     \u001b[38;5;28;01mreturn\u001b[39;00m \u001b[43mword\u001b[49m\u001b[43m[\u001b[49m\u001b[38;5;241;43m0\u001b[39;49m\u001b[43m]\u001b[49m\u001b[38;5;241m.\u001b[39mupper() \u001b[38;5;241m+\u001b[39m word[\u001b[38;5;241m1\u001b[39m:]\n",
      "\u001b[0;31mIndexError\u001b[0m: string index out of range"
     ]
    }
   ],
   "source": [
    "from __future__ import annotations\n",
    "\n",
    "import typing\n",
    "from collections.abc import Sequence\n",
    "from typing import Any, Generic, Literal, Optional, TypeVar\n",
    "\n",
    "import nshconfig as C\n",
    "from nshconfig._src.json_schema import convert_schema\n",
    "\n",
    "\n",
    "class Inner3(C.Config):\n",
    "    pass\n",
    "\n",
    "\n",
    "class Inner2(C.Config):\n",
    "    inner3: Inner3\n",
    "    hello: str | float\n",
    "\n",
    "\n",
    "T = TypeVar(\"T\")\n",
    "\n",
    "\n",
    "class MyGenericConfig(C.Config, Generic[T]):\n",
    "    a: int\n",
    "    b: float\n",
    "    t: T\n",
    "\n",
    "\n",
    "class Inner(C.Config):\n",
    "    inner: Inner2\n",
    "    b: float\n",
    "    d: Literal[1]\n",
    "    d2: Sequence[Literal[1]]\n",
    "    d3: typing.Sequence[Literal[1]]\n",
    "    g: MyGenericConfig[int]\n",
    "    l: MyGenericConfig[Inner3]\n",
    "\n",
    "\n",
    "class Root(C.Config):\n",
    "    l: int = 1\n",
    "    b: int | None = None\n",
    "    c: Optional[int] = None\n",
    "    inner: Inner | Inner2 | Any\n",
    "    a: \"int\"\n",
    "\n",
    "\n",
    "print(Root.model_json_schema())\n",
    "print(convert_schema(Root.model_json_schema(), \"Root\"))\n",
    "print(\"helloWorld\".capitalize())"
   ]
  },
  {
   "cell_type": "code",
   "execution_count": null,
   "metadata": {},
   "outputs": [],
   "source": []
  }
 ],
 "metadata": {
  "kernelspec": {
   "display_name": "nshconfig-SGJf82pB-py3.10",
   "language": "python",
   "name": "python3"
  },
  "language_info": {
   "codemirror_mode": {
    "name": "ipython",
    "version": 3
   },
   "file_extension": ".py",
   "mimetype": "text/x-python",
   "name": "python",
   "nbconvert_exporter": "python",
   "pygments_lexer": "ipython3",
   "version": "3.10.12"
  }
 },
 "nbformat": 4,
 "nbformat_minor": 2
}
